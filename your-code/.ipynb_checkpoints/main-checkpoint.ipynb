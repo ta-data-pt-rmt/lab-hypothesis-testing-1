{
 "cells": [
  {
   "cell_type": "markdown",
   "metadata": {},
   "source": [
    "# Before your start:\n",
    "- Read the README.md file\n",
    "- Comment as much as you can and use the resources (README.md file)\n",
    "- Happy learning!"
   ]
  },
  {
   "cell_type": "code",
   "execution_count": 1,
   "metadata": {},
   "outputs": [],
   "source": [
    "# import numpy and pandas\n",
    "import numpy as np\n",
    "import pandas as pd\n"
   ]
  },
  {
   "cell_type": "markdown",
   "metadata": {},
   "source": [
    "# Challenge 1 - Exploring the Data\n",
    "\n",
    "In this challenge, we will examine all salaries of employees of the City of Chicago. We will start by loading the dataset and examining its contents."
   ]
  },
  {
   "cell_type": "code",
   "execution_count": 4,
   "metadata": {},
   "outputs": [],
   "source": [
    "# Your code here:\n",
    "salaries=pd.read_csv(\"Current_Employee_Names__Salaries__and_Position_Titles.csv\")"
   ]
  },
  {
   "cell_type": "markdown",
   "metadata": {},
   "source": [
    "Examine the `salaries` dataset using the `head` function below."
   ]
  },
  {
   "cell_type": "code",
   "execution_count": 5,
   "metadata": {},
   "outputs": [
    {
     "data": {
      "text/html": [
       "<div>\n",
       "<style scoped>\n",
       "    .dataframe tbody tr th:only-of-type {\n",
       "        vertical-align: middle;\n",
       "    }\n",
       "\n",
       "    .dataframe tbody tr th {\n",
       "        vertical-align: top;\n",
       "    }\n",
       "\n",
       "    .dataframe thead th {\n",
       "        text-align: right;\n",
       "    }\n",
       "</style>\n",
       "<table border=\"1\" class=\"dataframe\">\n",
       "  <thead>\n",
       "    <tr style=\"text-align: right;\">\n",
       "      <th></th>\n",
       "      <th>Name</th>\n",
       "      <th>Job Titles</th>\n",
       "      <th>Department</th>\n",
       "      <th>Full or Part-Time</th>\n",
       "      <th>Salary or Hourly</th>\n",
       "      <th>Typical Hours</th>\n",
       "      <th>Annual Salary</th>\n",
       "      <th>Hourly Rate</th>\n",
       "    </tr>\n",
       "  </thead>\n",
       "  <tbody>\n",
       "    <tr>\n",
       "      <th>0</th>\n",
       "      <td>AARON,  JEFFERY M</td>\n",
       "      <td>SERGEANT</td>\n",
       "      <td>POLICE</td>\n",
       "      <td>F</td>\n",
       "      <td>Salary</td>\n",
       "      <td>NaN</td>\n",
       "      <td>101442.0</td>\n",
       "      <td>NaN</td>\n",
       "    </tr>\n",
       "    <tr>\n",
       "      <th>1</th>\n",
       "      <td>AARON,  KARINA</td>\n",
       "      <td>POLICE OFFICER (ASSIGNED AS DETECTIVE)</td>\n",
       "      <td>POLICE</td>\n",
       "      <td>F</td>\n",
       "      <td>Salary</td>\n",
       "      <td>NaN</td>\n",
       "      <td>94122.0</td>\n",
       "      <td>NaN</td>\n",
       "    </tr>\n",
       "    <tr>\n",
       "      <th>2</th>\n",
       "      <td>AARON,  KIMBERLEI R</td>\n",
       "      <td>CHIEF CONTRACT EXPEDITER</td>\n",
       "      <td>GENERAL SERVICES</td>\n",
       "      <td>F</td>\n",
       "      <td>Salary</td>\n",
       "      <td>NaN</td>\n",
       "      <td>101592.0</td>\n",
       "      <td>NaN</td>\n",
       "    </tr>\n",
       "    <tr>\n",
       "      <th>3</th>\n",
       "      <td>ABAD JR,  VICENTE M</td>\n",
       "      <td>CIVIL ENGINEER IV</td>\n",
       "      <td>WATER MGMNT</td>\n",
       "      <td>F</td>\n",
       "      <td>Salary</td>\n",
       "      <td>NaN</td>\n",
       "      <td>110064.0</td>\n",
       "      <td>NaN</td>\n",
       "    </tr>\n",
       "    <tr>\n",
       "      <th>4</th>\n",
       "      <td>ABASCAL,  REECE E</td>\n",
       "      <td>TRAFFIC CONTROL AIDE-HOURLY</td>\n",
       "      <td>OEMC</td>\n",
       "      <td>P</td>\n",
       "      <td>Hourly</td>\n",
       "      <td>20.0</td>\n",
       "      <td>NaN</td>\n",
       "      <td>19.86</td>\n",
       "    </tr>\n",
       "  </tbody>\n",
       "</table>\n",
       "</div>"
      ],
      "text/plain": [
       "                  Name                              Job Titles  \\\n",
       "0    AARON,  JEFFERY M                                SERGEANT   \n",
       "1      AARON,  KARINA   POLICE OFFICER (ASSIGNED AS DETECTIVE)   \n",
       "2  AARON,  KIMBERLEI R                CHIEF CONTRACT EXPEDITER   \n",
       "3  ABAD JR,  VICENTE M                       CIVIL ENGINEER IV   \n",
       "4    ABASCAL,  REECE E             TRAFFIC CONTROL AIDE-HOURLY   \n",
       "\n",
       "         Department Full or Part-Time Salary or Hourly  Typical Hours  \\\n",
       "0            POLICE                 F           Salary            NaN   \n",
       "1            POLICE                 F           Salary            NaN   \n",
       "2  GENERAL SERVICES                 F           Salary            NaN   \n",
       "3       WATER MGMNT                 F           Salary            NaN   \n",
       "4              OEMC                 P           Hourly           20.0   \n",
       "\n",
       "   Annual Salary  Hourly Rate  \n",
       "0       101442.0          NaN  \n",
       "1        94122.0          NaN  \n",
       "2       101592.0          NaN  \n",
       "3       110064.0          NaN  \n",
       "4            NaN        19.86  "
      ]
     },
     "execution_count": 5,
     "metadata": {},
     "output_type": "execute_result"
    }
   ],
   "source": [
    "# Your code here:\n",
    "salaries.head()\n"
   ]
  },
  {
   "cell_type": "markdown",
   "metadata": {},
   "source": [
    "We see from looking at the `head` function that there is quite a bit of missing data. Let's examine how much missing data is in each column. Produce this output in the cell below"
   ]
  },
  {
   "cell_type": "code",
   "execution_count": 6,
   "metadata": {},
   "outputs": [
    {
     "name": "stdout",
     "output_type": "stream",
     "text": [
      "Missing data in each column:\n",
      "Name                     0\n",
      "Job Titles               0\n",
      "Department               0\n",
      "Full or Part-Time        0\n",
      "Salary or Hourly         0\n",
      "Typical Hours        25161\n",
      "Annual Salary         8022\n",
      "Hourly Rate          25161\n",
      "dtype: int64\n"
     ]
    }
   ],
   "source": [
    "\n",
    "# Check for missing data in each column\n",
    "missing_data = salaries.isnull().sum()\n",
    "\n",
    "# Display the result\n",
    "print(\"Missing data in each column:\")\n",
    "print(missing_data)\n"
   ]
  },
  {
   "cell_type": "markdown",
   "metadata": {},
   "source": [
    "Let's also look at the count of hourly vs. salaried employees. Write the code in the cell below"
   ]
  },
  {
   "cell_type": "code",
   "execution_count": 8,
   "metadata": {},
   "outputs": [
    {
     "data": {
      "text/plain": [
       "Salary    25161\n",
       "Hourly     8022\n",
       "Name: Salary or Hourly, dtype: int64"
      ]
     },
     "execution_count": 8,
     "metadata": {},
     "output_type": "execute_result"
    }
   ],
   "source": [
    "employee_type_count = salaries['Salary or Hourly'].value_counts()\n",
    "\n",
    "employee_type_count"
   ]
  },
  {
   "cell_type": "markdown",
   "metadata": {},
   "source": [
    "What this information indicates is that the table contains information about two types of employees - salaried and hourly. Some columns apply only to one type of employee while other columns only apply to another kind. This is why there are so many missing values. Therefore, we will not do anything to handle the missing values."
   ]
  },
  {
   "cell_type": "markdown",
   "metadata": {},
   "source": [
    "There are different departments in the city. List all departments and the count of employees in each department."
   ]
  },
  {
   "cell_type": "code",
   "execution_count": 9,
   "metadata": {},
   "outputs": [
    {
     "name": "stdout",
     "output_type": "stream",
     "text": [
      "Count of employees in each department:\n",
      "Department\n",
      "ADMIN HEARNG                39\n",
      "ANIMAL CONTRL               81\n",
      "AVIATION                  1629\n",
      "BOARD OF ELECTION          107\n",
      "BOARD OF ETHICS              8\n",
      "BUDGET & MGMT               46\n",
      "BUILDINGS                  269\n",
      "BUSINESS AFFAIRS           171\n",
      "CITY CLERK                  84\n",
      "CITY COUNCIL               411\n",
      "COMMUNITY DEVELOPMENT      207\n",
      "COPA                       116\n",
      "CULTURAL AFFAIRS            65\n",
      "DISABILITIES                28\n",
      "DoIT                        99\n",
      "FAMILY & SUPPORT           615\n",
      "FINANCE                    560\n",
      "FIRE                      4641\n",
      "GENERAL SERVICES           980\n",
      "HEALTH                     488\n",
      "HUMAN RELATIONS             16\n",
      "HUMAN RESOURCES             79\n",
      "INSPECTOR GEN               87\n",
      "LAW                        407\n",
      "LICENSE APPL COMM            1\n",
      "MAYOR'S OFFICE              85\n",
      "OEMC                      2102\n",
      "POLICE                   13414\n",
      "POLICE BOARD                 2\n",
      "PROCUREMENT                 92\n",
      "PUBLIC LIBRARY            1015\n",
      "STREETS & SAN             2198\n",
      "TRANSPORTN                1140\n",
      "TREASURER                   22\n",
      "WATER MGMNT               1879\n",
      "Name: Name, dtype: int64\n"
     ]
    }
   ],
   "source": [
    "department_employee_count = salaries.groupby('Department')['Name'].count()\n",
    "\n",
    "\n",
    "print(\"Count of employees in each department:\")\n",
    "print(department_employee_count)\n",
    "\n"
   ]
  },
  {
   "cell_type": "markdown",
   "metadata": {},
   "source": [
    "# Challenge 2 - Hypothesis Tests\n",
    "\n",
    "In this section of the lab, we will test whether the hourly wage of all hourly workers is significantly different from $30/hr. Import the correct one sample test function from scipy and perform the hypothesis test for a 95% two sided confidence interval."
   ]
  },
  {
   "cell_type": "code",
   "execution_count": 10,
   "metadata": {},
   "outputs": [
    {
     "name": "stdout",
     "output_type": "stream",
     "text": [
      "T-statistic: 20.6198057854942\n",
      "P-value: 4.3230240486229894e-92\n",
      "Reject the null hypothesis: The hourly wage is significantly different from $30/hr.\n"
     ]
    }
   ],
   "source": [
    "from scipy.stats import ttest_1samp\n",
    "# Extract hourly wages for the one-sample t-test\n",
    "hourly_wages = salaries[salaries['Salary or Hourly'] == 'Hourly']['Hourly Rate']\n",
    "\n",
    "# Perform the one-sample t-test\n",
    "t_stat, p_value = ttest_1samp(hourly_wages, 30)\n",
    "\n",
    "# Display the result\n",
    "print(\"T-statistic:\", t_stat)\n",
    "print(\"P-value:\", p_value)\n",
    "\n",
    "# Check if the p-value is less than the significance level (e.g., 0.05)\n",
    "confidence_level = 0.95\n",
    "alpha = 1 - confidence_level\n",
    "if p_value < alpha:\n",
    "    print(\"Reject the null hypothesis: The hourly wage is significantly different from $30/hr.\")\n",
    "else:\n",
    "    print(\"Fail to reject the null hypothesis: The hourly wage is not significantly different from $30/hr.\")\n",
    "\n"
   ]
  },
  {
   "cell_type": "markdown",
   "metadata": {},
   "source": [
    "We are also curious about salaries in the police force. The chief of police in Chicago claimed in a press briefing that salaries this year are higher than last year's mean of $86000/year a year for all salaried employees. Test this one sided hypothesis using a 95% confidence interval.\n",
    "\n",
    "Hint: A one tailed test has a p-value that is half of the two tailed p-value. If our hypothesis is greater than, then to reject, the test statistic must also be positive."
   ]
  },
  {
   "cell_type": "code",
   "execution_count": 11,
   "metadata": {},
   "outputs": [
    {
     "name": "stdout",
     "output_type": "stream",
     "text": [
      "T-statistic: nan\n",
      "P-value: nan\n",
      "Fail to reject the null hypothesis: Salaries in the police force are not higher than $86000/year.\n"
     ]
    }
   ],
   "source": [
    "# Extract salaries for the one-sample t-test for the police department\n",
    "police_salaries = salaries[salaries['Department'] == 'POLICE']['Annual Salary']\n",
    "\n",
    "# Define the claimed mean from the chief\n",
    "claimed_mean = 86000\n",
    "\n",
    "# Perform the one-sample t-test\n",
    "t_stat, p_value = ttest_1samp(police_salaries, claimed_mean)\n",
    "\n",
    "# Display the result\n",
    "print(\"T-statistic:\", t_stat)\n",
    "print(\"P-value:\", p_value)\n",
    "\n",
    "# Check if the p-value is less than the significance level (e.g., 0.05)\n",
    "confidence_level = 0.95\n",
    "alpha = 1 - confidence_level\n",
    "if p_value / 2 < alpha and t_stat > 0:\n",
    "    print(\"Reject the null hypothesis: Salaries in the police force are higher than $86000/year.\")\n",
    "else:\n",
    "    print(\"Fail to reject the null hypothesis: Salaries in the police force are not higher than $86000/year.\")"
   ]
  },
  {
   "cell_type": "markdown",
   "metadata": {},
   "source": [
    "Using the `crosstab` function, find the department that has the most hourly workers. "
   ]
  },
  {
   "cell_type": "code",
   "execution_count": 12,
   "metadata": {},
   "outputs": [
    {
     "name": "stdout",
     "output_type": "stream",
     "text": [
      "Department with the most hourly workers: STREETS & SAN\n"
     ]
    }
   ],
   "source": [
    "# Use crosstab to find the department with the most hourly workers\n",
    "cross_tab = pd.crosstab(salaries['Department'], salaries['Salary or Hourly'])\n",
    "\n",
    "# Get the department with the most hourly workers\n",
    "most_hourly_department = cross_tab['Hourly'].idxmax()\n",
    "\n",
    "# Display the result\n",
    "print(\"Department with the most hourly workers:\", most_hourly_department)\n",
    "\n"
   ]
  },
  {
   "cell_type": "markdown",
   "metadata": {},
   "source": [
    "The workers from the department with the most hourly workers have complained that their hourly wage is less than $35/hour. Using a one sample t-test, test this one-sided hypothesis at the 95% confidence level."
   ]
  },
  {
   "cell_type": "code",
   "execution_count": 13,
   "metadata": {},
   "outputs": [
    {
     "name": "stdout",
     "output_type": "stream",
     "text": [
      "T-statistic: -9.567447887848152\n",
      "P-value: 3.3378530564707717e-21\n",
      "Reject the null hypothesis: Hourly wage is less than $35/hour in the department with the most hourly workers.\n"
     ]
    }
   ],
   "source": [
    "# Extract hourly wages for the one-sample t-test for the department with the most hourly workers\n",
    "most_hourly_department = 'STREETS & SAN'  \n",
    "hourly_wages_most_department = salaries[(salaries['Salary or Hourly'] == 'Hourly') & (salaries['Department'] == most_hourly_department)]['Hourly Rate']\n",
    "\n",
    "# Define the claimed mean from the workers' complaint\n",
    "claimed_mean = 35\n",
    "\n",
    "# Perform the one-sample t-test\n",
    "t_stat, p_value = ttest_1samp(hourly_wages_most_department, claimed_mean)\n",
    "\n",
    "# Display the result\n",
    "print(\"T-statistic:\", t_stat)\n",
    "print(\"P-value:\", p_value)\n",
    "\n",
    "# Check if the p-value is less than the significance level (e.g., 0.05)\n",
    "confidence_level = 0.95\n",
    "alpha = 1 - confidence_level\n",
    "if p_value / 2 < alpha and t_stat < 0:\n",
    "    print(\"Reject the null hypothesis: Hourly wage is less than $35/hour in the department with the most hourly workers.\")\n",
    "else:\n",
    "    print(\"Fail to reject the null hypothesis: Hourly wage is not less than $35/hour in the department with the most hourly workers.\")\n",
    "\n"
   ]
  },
  {
   "cell_type": "markdown",
   "metadata": {},
   "source": [
    "# Challenge 3: To practice - Constructing Confidence Intervals\n",
    "\n",
    "While testing our hypothesis is a great way to gather empirical evidence for accepting or rejecting the hypothesis, another way to gather evidence is by creating a confidence interval. A confidence interval gives us information about the true mean of the population. So for a 95% confidence interval, we are 95% sure that the mean of the population is within the confidence interval. \n",
    ").\n",
    "\n",
    "To read more about confidence intervals, click [here](https://en.wikipedia.org/wiki/Confidence_interval).\n",
    "\n",
    "\n",
    "In the cell below, we will construct a 95% confidence interval for the mean hourly wage of all hourly workers. \n",
    "\n",
    "The confidence interval is computed in SciPy using the `t.interval` function. You can read more about this function [here](https://docs.scipy.org/doc/scipy-0.14.0/reference/generated/scipy.stats.t.html).\n",
    "\n",
    "To compute the confidence interval of the hourly wage, use the 0.95 for the confidence level, number of rows - 1 for degrees of freedom, the mean of the sample for the location parameter and the standard error for the scale. The standard error can be computed using [this](https://docs.scipy.org/doc/scipy/reference/generated/scipy.stats.sem.html) function in SciPy."
   ]
  },
  {
   "cell_type": "code",
   "execution_count": 15,
   "metadata": {},
   "outputs": [
    {
     "name": "stdout",
     "output_type": "stream",
     "text": [
      "Confidence Interval: (32.52345834488425, 33.05365708767623)\n"
     ]
    }
   ],
   "source": [
    "from scipy.stats import t\n",
    "# Extract hourly wages for the confidence interval calculation\n",
    "hourly_wages = salaries[salaries['Salary or Hourly'] == 'Hourly']['Hourly Rate']\n",
    "\n",
    "# Calculate the mean and standard error of the mean\n",
    "mean_hourly_wage = hourly_wages.mean()\n",
    "standard_error = hourly_wages.sem()\n",
    "\n",
    "# Degrees of freedom\n",
    "df = len(hourly_wages) - 1\n",
    "\n",
    "# Confidence level\n",
    "confidence_level = 0.95\n",
    "\n",
    "# Calculate the t-score for the confidence level and degrees of freedom\n",
    "t_score = t.ppf((1 + confidence_level) / 2, df)\n",
    "\n",
    "# Calculate the confidence interval\n",
    "confidence_interval = t.interval(confidence_level, df, loc=mean_hourly_wage, scale=standard_error)\n",
    "\n",
    "# Display the result\n",
    "print(\"Confidence Interval:\", confidence_interval)\n",
    "\n"
   ]
  },
  {
   "cell_type": "markdown",
   "metadata": {},
   "source": [
    "Now construct the 95% confidence interval for all salaried employeed in the police in the cell below."
   ]
  },
  {
   "cell_type": "code",
   "execution_count": 17,
   "metadata": {},
   "outputs": [
    {
     "name": "stdout",
     "output_type": "stream",
     "text": [
      "Confidence Interval for Salaried Employees in Police Department: (86177.08425202279, 86795.74475424399)\n"
     ]
    }
   ],
   "source": [
    "from scipy.stats import norm\n",
    "# Extract salaries for the confidence interval calculation\n",
    "police_salaries = salaries[(salaries['Salary or Hourly'] == 'Salary') & (salaries['Department'] == 'POLICE')]['Annual Salary']\n",
    "\n",
    "# Calculate the mean and standard deviation of the salaries\n",
    "mean_salary = police_salaries.mean()\n",
    "std_dev_salary = police_salaries.std()\n",
    "\n",
    "# Sample size\n",
    "sample_size = len(police_salaries)\n",
    "\n",
    "# Confidence level\n",
    "confidence_level = 0.95\n",
    "\n",
    "# Calculate the z-score for the confidence level\n",
    "z_score = norm.ppf((1 + confidence_level) / 2)\n",
    "\n",
    "# Calculate the margin of error\n",
    "margin_of_error = z_score * (std_dev_salary / (sample_size ** 0.5))\n",
    "\n",
    "# Calculate the confidence interval\n",
    "confidence_interval = (mean_salary - margin_of_error, mean_salary + margin_of_error)\n",
    "\n",
    "# Display the result\n",
    "print(\"Confidence Interval for Salaried Employees in Police Department:\", confidence_interval)\n"
   ]
  },
  {
   "cell_type": "markdown",
   "metadata": {},
   "source": [
    "# Bonus Challenge - Hypothesis Tests of Proportions\n",
    "\n",
    "Another type of one sample test is a hypothesis test of proportions. In this test, we examine whether the proportion of a group in our sample is significantly different than a fraction. \n",
    "\n",
    "You can read more about one sample proportion tests [here](http://sphweb.bumc.bu.edu/otlt/MPH-Modules/BS/SAS/SAS6-CategoricalData/SAS6-CategoricalData2.html).\n",
    "\n",
    "In the cell below, use the `proportions_ztest` function from `statsmodels` to perform a hypothesis test that will determine whether the number of hourly workers in the City of Chicago is significantly different from 25% at the 95% confidence level."
   ]
  },
  {
   "cell_type": "code",
   "execution_count": 18,
   "metadata": {},
   "outputs": [
    {
     "name": "stdout",
     "output_type": "stream",
     "text": [
      "Z-statistic: -3.5099964213703005\n",
      "P-value: 0.0004481127249057967\n",
      "Reject the null hypothesis: The proportion of hourly workers is significantly different from 25%.\n"
     ]
    }
   ],
   "source": [
    "from statsmodels.stats.proportion import proportions_ztest\n",
    "\n",
    "# Count the number of hourly and salaried workers\n",
    "hourly_count = len(salaries[salaries['Salary or Hourly'] == 'Hourly'])\n",
    "total_count = len(salaries)\n",
    "\n",
    "# Proportion to test against\n",
    "proportion_to_test = 0.25\n",
    "\n",
    "# Perform the proportions z-test\n",
    "z_stat, p_value = proportions_ztest(hourly_count, total_count, proportion_to_test, alternative='two-sided')\n",
    "\n",
    "# Display the result\n",
    "print(\"Z-statistic:\", z_stat)\n",
    "print(\"P-value:\", p_value)\n",
    "\n",
    "# Check if the p-value is less than the significance level (e.g., 0.05)\n",
    "confidence_level = 0.95\n",
    "alpha = 1 - confidence_level\n",
    "if p_value < alpha:\n",
    "    print(\"Reject the null hypothesis: The proportion of hourly workers is significantly different from 25%.\")\n",
    "else:\n",
    "    print(\"Fail to reject the null hypothesis: The proportion of hourly workers is not significantly different from 25%.\")\n",
    "\n"
   ]
  },
  {
   "cell_type": "code",
   "execution_count": null,
   "metadata": {},
   "outputs": [],
   "source": []
  }
 ],
 "metadata": {
  "kernelspec": {
   "display_name": "Python 3 (ipykernel)",
   "language": "python",
   "name": "python3"
  },
  "language_info": {
   "codemirror_mode": {
    "name": "ipython",
    "version": 3
   },
   "file_extension": ".py",
   "mimetype": "text/x-python",
   "name": "python",
   "nbconvert_exporter": "python",
   "pygments_lexer": "ipython3",
   "version": "3.11.4"
  }
 },
 "nbformat": 4,
 "nbformat_minor": 2
}
