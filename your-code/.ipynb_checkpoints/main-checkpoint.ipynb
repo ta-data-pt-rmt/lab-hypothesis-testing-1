{
 "cells": [
  {
   "cell_type": "markdown",
   "metadata": {},
   "source": [
    "# Before your start:\n",
    "- Read the README.md file\n",
    "- Comment as much as you can and use the resources (README.md file)\n",
    "- Happy learning!"
   ]
  },
  {
   "cell_type": "code",
   "execution_count": 1,
   "metadata": {},
   "outputs": [],
   "source": [
    "# import numpy and pandas\n",
    "\n",
    "import numpy as np\n",
    "import pandas as pd"
   ]
  },
  {
   "cell_type": "markdown",
   "metadata": {},
   "source": [
    "# Challenge 1 - Exploring the Data\n",
    "\n",
    "In this challenge, we will examine all salaries of employees of the City of Chicago. We will start by loading the dataset and examining its contents."
   ]
  },
  {
   "cell_type": "code",
   "execution_count": 3,
   "metadata": {},
   "outputs": [],
   "source": [
    "# Your code here:\n",
    "salaries = pd.read_csv(\"Current_Employee_Names__Salaries__and_Position_Titles.csv\")"
   ]
  },
  {
   "cell_type": "markdown",
   "metadata": {},
   "source": [
    "Examine the `salaries` dataset using the `head` function below."
   ]
  },
  {
   "cell_type": "code",
   "execution_count": 4,
   "metadata": {},
   "outputs": [
    {
     "data": {
      "text/html": [
       "<div>\n",
       "<style scoped>\n",
       "    .dataframe tbody tr th:only-of-type {\n",
       "        vertical-align: middle;\n",
       "    }\n",
       "\n",
       "    .dataframe tbody tr th {\n",
       "        vertical-align: top;\n",
       "    }\n",
       "\n",
       "    .dataframe thead th {\n",
       "        text-align: right;\n",
       "    }\n",
       "</style>\n",
       "<table border=\"1\" class=\"dataframe\">\n",
       "  <thead>\n",
       "    <tr style=\"text-align: right;\">\n",
       "      <th></th>\n",
       "      <th>Name</th>\n",
       "      <th>Job Titles</th>\n",
       "      <th>Department</th>\n",
       "      <th>Full or Part-Time</th>\n",
       "      <th>Salary or Hourly</th>\n",
       "      <th>Typical Hours</th>\n",
       "      <th>Annual Salary</th>\n",
       "      <th>Hourly Rate</th>\n",
       "    </tr>\n",
       "  </thead>\n",
       "  <tbody>\n",
       "    <tr>\n",
       "      <th>0</th>\n",
       "      <td>AARON,  JEFFERY M</td>\n",
       "      <td>SERGEANT</td>\n",
       "      <td>POLICE</td>\n",
       "      <td>F</td>\n",
       "      <td>Salary</td>\n",
       "      <td>NaN</td>\n",
       "      <td>101442.0</td>\n",
       "      <td>NaN</td>\n",
       "    </tr>\n",
       "    <tr>\n",
       "      <th>1</th>\n",
       "      <td>AARON,  KARINA</td>\n",
       "      <td>POLICE OFFICER (ASSIGNED AS DETECTIVE)</td>\n",
       "      <td>POLICE</td>\n",
       "      <td>F</td>\n",
       "      <td>Salary</td>\n",
       "      <td>NaN</td>\n",
       "      <td>94122.0</td>\n",
       "      <td>NaN</td>\n",
       "    </tr>\n",
       "    <tr>\n",
       "      <th>2</th>\n",
       "      <td>AARON,  KIMBERLEI R</td>\n",
       "      <td>CHIEF CONTRACT EXPEDITER</td>\n",
       "      <td>GENERAL SERVICES</td>\n",
       "      <td>F</td>\n",
       "      <td>Salary</td>\n",
       "      <td>NaN</td>\n",
       "      <td>101592.0</td>\n",
       "      <td>NaN</td>\n",
       "    </tr>\n",
       "    <tr>\n",
       "      <th>3</th>\n",
       "      <td>ABAD JR,  VICENTE M</td>\n",
       "      <td>CIVIL ENGINEER IV</td>\n",
       "      <td>WATER MGMNT</td>\n",
       "      <td>F</td>\n",
       "      <td>Salary</td>\n",
       "      <td>NaN</td>\n",
       "      <td>110064.0</td>\n",
       "      <td>NaN</td>\n",
       "    </tr>\n",
       "    <tr>\n",
       "      <th>4</th>\n",
       "      <td>ABASCAL,  REECE E</td>\n",
       "      <td>TRAFFIC CONTROL AIDE-HOURLY</td>\n",
       "      <td>OEMC</td>\n",
       "      <td>P</td>\n",
       "      <td>Hourly</td>\n",
       "      <td>20.0</td>\n",
       "      <td>NaN</td>\n",
       "      <td>19.86</td>\n",
       "    </tr>\n",
       "  </tbody>\n",
       "</table>\n",
       "</div>"
      ],
      "text/plain": [
       "                  Name                              Job Titles  \\\n",
       "0    AARON,  JEFFERY M                                SERGEANT   \n",
       "1      AARON,  KARINA   POLICE OFFICER (ASSIGNED AS DETECTIVE)   \n",
       "2  AARON,  KIMBERLEI R                CHIEF CONTRACT EXPEDITER   \n",
       "3  ABAD JR,  VICENTE M                       CIVIL ENGINEER IV   \n",
       "4    ABASCAL,  REECE E             TRAFFIC CONTROL AIDE-HOURLY   \n",
       "\n",
       "         Department Full or Part-Time Salary or Hourly  Typical Hours  \\\n",
       "0            POLICE                 F           Salary            NaN   \n",
       "1            POLICE                 F           Salary            NaN   \n",
       "2  GENERAL SERVICES                 F           Salary            NaN   \n",
       "3       WATER MGMNT                 F           Salary            NaN   \n",
       "4              OEMC                 P           Hourly           20.0   \n",
       "\n",
       "   Annual Salary  Hourly Rate  \n",
       "0       101442.0          NaN  \n",
       "1        94122.0          NaN  \n",
       "2       101592.0          NaN  \n",
       "3       110064.0          NaN  \n",
       "4            NaN        19.86  "
      ]
     },
     "execution_count": 4,
     "metadata": {},
     "output_type": "execute_result"
    }
   ],
   "source": [
    "# Your code here:\n",
    "\n",
    "salaries.head()"
   ]
  },
  {
   "cell_type": "markdown",
   "metadata": {},
   "source": [
    "We see from looking at the `head` function that there is quite a bit of missing data. Let's examine how much missing data is in each column. Produce this output in the cell below"
   ]
  },
  {
   "cell_type": "code",
   "execution_count": 5,
   "metadata": {},
   "outputs": [
    {
     "data": {
      "text/plain": [
       "Name                     0\n",
       "Job Titles               0\n",
       "Department               0\n",
       "Full or Part-Time        0\n",
       "Salary or Hourly         0\n",
       "Typical Hours        25161\n",
       "Annual Salary         8022\n",
       "Hourly Rate          25161\n",
       "dtype: int64"
      ]
     },
     "execution_count": 5,
     "metadata": {},
     "output_type": "execute_result"
    }
   ],
   "source": [
    "# Your code here:\n",
    "\n",
    "salaries.isnull().sum()"
   ]
  },
  {
   "cell_type": "markdown",
   "metadata": {},
   "source": [
    "Let's also look at the count of hourly vs. salaried employees. Write the code in the cell below"
   ]
  },
  {
   "cell_type": "code",
   "execution_count": 7,
   "metadata": {
    "scrolled": false
   },
   "outputs": [
    {
     "name": "stdout",
     "output_type": "stream",
     "text": [
      "Salary    25161\n",
      "Hourly     8022\n",
      "Name: Salary or Hourly, dtype: int64\n"
     ]
    }
   ],
   "source": [
    "# Your code here:\n",
    "employee_counts = salaries['Salary or Hourly'].value_counts()\n",
    "print(employee_counts)"
   ]
  },
  {
   "cell_type": "markdown",
   "metadata": {},
   "source": [
    "What this information indicates is that the table contains information about two types of employees - salaried and hourly. Some columns apply only to one type of employee while other columns only apply to another kind. This is why there are so many missing values. Therefore, we will not do anything to handle the missing values."
   ]
  },
  {
   "cell_type": "markdown",
   "metadata": {},
   "source": [
    "There are different departments in the city. List all departments and the count of employees in each department."
   ]
  },
  {
   "cell_type": "code",
   "execution_count": 11,
   "metadata": {},
   "outputs": [
    {
     "name": "stdout",
     "output_type": "stream",
     "text": [
      "POLICE                   13414\n",
      "FIRE                      4641\n",
      "STREETS & SAN             2198\n",
      "OEMC                      2102\n",
      "WATER MGMNT               1879\n",
      "AVIATION                  1629\n",
      "TRANSPORTN                1140\n",
      "PUBLIC LIBRARY            1015\n",
      "GENERAL SERVICES           980\n",
      "FAMILY & SUPPORT           615\n",
      "FINANCE                    560\n",
      "HEALTH                     488\n",
      "CITY COUNCIL               411\n",
      "LAW                        407\n",
      "BUILDINGS                  269\n",
      "COMMUNITY DEVELOPMENT      207\n",
      "BUSINESS AFFAIRS           171\n",
      "COPA                       116\n",
      "BOARD OF ELECTION          107\n",
      "DoIT                        99\n",
      "PROCUREMENT                 92\n",
      "INSPECTOR GEN               87\n",
      "MAYOR'S OFFICE              85\n",
      "CITY CLERK                  84\n",
      "ANIMAL CONTRL               81\n",
      "HUMAN RESOURCES             79\n",
      "CULTURAL AFFAIRS            65\n",
      "BUDGET & MGMT               46\n",
      "ADMIN HEARNG                39\n",
      "DISABILITIES                28\n",
      "TREASURER                   22\n",
      "HUMAN RELATIONS             16\n",
      "BOARD OF ETHICS              8\n",
      "POLICE BOARD                 2\n",
      "LICENSE APPL COMM            1\n",
      "Name: Department, dtype: int64\n"
     ]
    }
   ],
   "source": [
    "# Your code here:\n",
    "\n",
    "departments_count = salaries['Department'].value_counts()\n",
    "print(departments_count)"
   ]
  },
  {
   "cell_type": "markdown",
   "metadata": {},
   "source": [
    "# Challenge 2 - Hypothesis Tests\n",
    "\n",
    "In this section of the lab, we will test whether the hourly wage of all hourly workers is significantly different from $30/hr. Import the correct one sample test function from scipy and perform the hypothesis test for a 95% two sided confidence interval."
   ]
  },
  {
   "cell_type": "code",
   "execution_count": 13,
   "metadata": {},
   "outputs": [
    {
     "name": "stdout",
     "output_type": "stream",
     "text": [
      "Test Statistic: 20.6198057854942\n",
      "P-value: 4.3230240486229894e-92\n"
     ]
    }
   ],
   "source": [
    "# Your code here:\n",
    "from scipy.stats import ttest_1samp\n",
    "\n",
    "# Filtering only hourly workers and removing missing values\n",
    "hourly_wages = salaries.loc[salaries['Salary or Hourly'] == 'Hourly', 'Hourly Rate'].dropna()\n",
    "\n",
    "# Performing one-sample t-test\n",
    "test_result = ttest_1samp(hourly_wages, 30.0)\n",
    "\n",
    "# Extracting test statistics and p-value\n",
    "test_statistic = test_result.statistic\n",
    "p_value = test_result.pvalue\n",
    "\n",
    "# Displaying the test results\n",
    "print(\"Test Statistic:\", test_statistic)\n",
    "print(\"P-value:\", p_value)\n"
   ]
  },
  {
   "cell_type": "code",
   "execution_count": 15,
   "metadata": {},
   "outputs": [
    {
     "data": {
      "text/plain": [
       "'Since the p-value is significantly smaller than the typical significance level of 0.05, we would reject the null hypothesis. \\nThis suggests that the hourly wage of all hourly workers is significantly different from $30/hr at a 95% confidence level.\\n'"
      ]
     },
     "execution_count": 15,
     "metadata": {},
     "output_type": "execute_result"
    }
   ],
   "source": [
    "'''Since the p-value is significantly smaller than the typical significance level of 0.05, we would reject the null hypothesis. \n",
    "This suggests that the hourly wage of all hourly workers is significantly different from $30/hr at a 95% confidence level.\n",
    "'''"
   ]
  },
  {
   "cell_type": "markdown",
   "metadata": {},
   "source": [
    "We are also curious about salaries in the police force. The chief of police in Chicago claimed in a press briefing that salaries this year are higher than last year's mean of $86000/year a year for all salaried employees. Test this one sided hypothesis using a 95% confidence interval.\n",
    "\n",
    "Hint: A one tailed test has a p-value that is half of the two tailed p-value. If our hypothesis is greater than, then to reject, the test statistic must also be positive."
   ]
  },
  {
   "cell_type": "code",
   "execution_count": 16,
   "metadata": {},
   "outputs": [
    {
     "name": "stdout",
     "output_type": "stream",
     "text": [
      "Test Statistic: 3.081997005712994\n",
      "P-value: 0.0010301701775482569\n",
      "Is the test statistic positive? True\n"
     ]
    }
   ],
   "source": [
    "# Your code here:\n",
    "# Filtering salaries in the police force\n",
    "police_salaries = salaries.loc[salaries['Department'] == 'POLICE', 'Annual Salary'].dropna()\n",
    "\n",
    "# Performing one-sample t-test\n",
    "test_result = ttest_1samp(police_salaries, 86000.0)\n",
    "\n",
    "# Extracting test statistic and p-value\n",
    "test_statistic = test_result.statistic\n",
    "p_value = test_result.pvalue / 2  # One-tailed test\n",
    "\n",
    "# Checking if the test statistic is positive\n",
    "is_positive_test_statistic = test_statistic > 0\n",
    "\n",
    "# Displaying the test results\n",
    "print(\"Test Statistic:\", test_statistic)\n",
    "print(\"P-value:\", p_value)\n",
    "print(\"Is the test statistic positive?\", is_positive_test_statistic)\n"
   ]
  },
  {
   "cell_type": "code",
   "execution_count": 17,
   "metadata": {},
   "outputs": [
    {
     "data": {
      "text/plain": [
       "\"\\nSince the p-value is significantly smaller than the typical significance level of 0.05, and the test statistic is positive, \\nwe would reject the null hypothesis. This provides evidence to support the Chief of Police's claim that salaries this year \\nin the police force are higher than last year's mean of $86000/year at a 95% confidence level.\\n\""
      ]
     },
     "execution_count": 17,
     "metadata": {},
     "output_type": "execute_result"
    }
   ],
   "source": [
    "'''\n",
    "Since the p-value is significantly smaller than the typical significance level of 0.05, and the test statistic is positive, \n",
    "we would reject the null hypothesis. This provides evidence to support the Chief of Police's claim that salaries this year \n",
    "in the police force are higher than last year's mean of $86000/year at a 95% confidence level.\n",
    "'''"
   ]
  },
  {
   "cell_type": "markdown",
   "metadata": {},
   "source": [
    "Using the `crosstab` function, find the department that has the most hourly workers. "
   ]
  },
  {
   "cell_type": "code",
   "execution_count": 18,
   "metadata": {},
   "outputs": [
    {
     "name": "stdout",
     "output_type": "stream",
     "text": [
      "Department with the most hourly workers: STREETS & SAN\n"
     ]
    }
   ],
   "source": [
    "# Your code here:\n",
    "\n",
    "# Creating a crosstab to count hourly workers by department\n",
    "hourly_by_department = pd.crosstab(salaries['Department'], salaries['Salary or Hourly'] == 'Hourly')\n",
    "\n",
    "# Finding the department with the most hourly workers\n",
    "department_with_most_hourly = hourly_by_department[True].idxmax()\n",
    "\n",
    "# Displaying the department with the most hourly workers\n",
    "print(\"Department with the most hourly workers:\", department_with_most_hourly)"
   ]
  },
  {
   "cell_type": "markdown",
   "metadata": {},
   "source": [
    "The workers from the department with the most hourly workers have complained that their hourly wage is less than $35/hour. Using a one sample t-test, test this one-sided hypothesis at the 95% confidence level."
   ]
  },
  {
   "cell_type": "code",
   "execution_count": 19,
   "metadata": {},
   "outputs": [
    {
     "name": "stdout",
     "output_type": "stream",
     "text": [
      "Test Statistic: -9.567447887848152\n",
      "P-value: 1.6689265282353859e-21\n"
     ]
    }
   ],
   "source": [
    "# Your code here:\n",
    "\n",
    "# Filter hourly wages in STREETS & SAN\n",
    "hourly_wages = salaries.loc[(salaries['Department'] == 'STREETS & SAN') & (salaries['Salary or Hourly'] == 'Hourly'), 'Hourly Rate'].dropna()\n",
    "\n",
    "\n",
    "# Performing one-sample t-test\n",
    "test_result = ttest_1samp(hourly_wages, 35, alternative='less')\n",
    "\n",
    "# Extracting test statistic and p-value\n",
    "test_statistic = test_result.statistic\n",
    "p_value = test_result.pvalue\n",
    "\n",
    "# Displaying the test results\n",
    "print(\"Test Statistic:\", test_statistic)\n",
    "print(\"P-value:\", p_value)"
   ]
  },
  {
   "cell_type": "code",
   "execution_count": 20,
   "metadata": {},
   "outputs": [
    {
     "data": {
      "text/plain": [
       "'\\nSince the p-value (1.6689265282353859e-21) is significantly smaller than the significance level of 0.05, and the test statistic\\nis negative, we can reject the null hypothesis. This provides strong evidence to support the claim made by workers \\nfrom the \"STREETS & SAN\" department that their hourly wage is indeed less than $35/hour at a 95% confidence level.\\n'"
      ]
     },
     "execution_count": 20,
     "metadata": {},
     "output_type": "execute_result"
    }
   ],
   "source": [
    "'''\n",
    "Since the p-value (1.6689265282353859e-21) is significantly smaller than the significance level of 0.05, and the test statistic\n",
    "is negative, we can reject the null hypothesis. This provides strong evidence to support the claim made by workers \n",
    "from the \"STREETS & SAN\" department that their hourly wage is indeed less than $35/hour at a 95% confidence level.\n",
    "'''"
   ]
  },
  {
   "cell_type": "markdown",
   "metadata": {},
   "source": [
    "# Challenge 3: To practice - Constructing Confidence Intervals\n",
    "\n",
    "While testing our hypothesis is a great way to gather empirical evidence for accepting or rejecting the hypothesis, another way to gather evidence is by creating a confidence interval. A confidence interval gives us information about the true mean of the population. So for a 95% confidence interval, we are 95% sure that the mean of the population is within the confidence interval. \n",
    ").\n",
    "\n",
    "To read more about confidence intervals, click [here](https://en.wikipedia.org/wiki/Confidence_interval).\n",
    "\n",
    "\n",
    "In the cell below, we will construct a 95% confidence interval for the mean hourly wage of all hourly workers. \n",
    "\n",
    "The confidence interval is computed in SciPy using the `t.interval` function. You can read more about this function [here](https://docs.scipy.org/doc/scipy-0.14.0/reference/generated/scipy.stats.t.html).\n",
    "\n",
    "To compute the confidence interval of the hourly wage, use the 0.95 for the confidence level, number of rows - 1 for degrees of freedom, the mean of the sample for the location parameter and the standard error for the scale. The standard error can be computed using [this](https://docs.scipy.org/doc/scipy/reference/generated/scipy.stats.sem.html) function in SciPy."
   ]
  },
  {
   "cell_type": "code",
   "execution_count": 22,
   "metadata": {},
   "outputs": [
    {
     "name": "stdout",
     "output_type": "stream",
     "text": [
      "95% Confidence Interval for Mean Hourly Wage:\n",
      "(32.52345834488425, 33.05365708767623)\n"
     ]
    }
   ],
   "source": [
    "# Your code here:\n",
    "from scipy.stats import t, sem\n",
    "\n",
    "# Filter hourly wages\n",
    "hourly_wages = salaries.loc[salaries['Salary or Hourly'] == 'Hourly', 'Hourly Rate'].dropna()\n",
    "\n",
    "# Compute mean and standard error\n",
    "mean_hourly_wage = hourly_wages.mean()\n",
    "std_error = sem(hourly_wages)\n",
    "\n",
    "# Compute confidence interval\n",
    "confidence_level = 0.95\n",
    "n = len(hourly_wages)\n",
    "degrees_of_freedom = n - 1\n",
    "confidence_interval = t.interval(confidence_level, degrees_of_freedom, loc=mean_hourly_wage, scale=std_error)\n",
    "\n",
    "# Display the confidence interval\n",
    "print(\"95% Confidence Interval for Mean Hourly Wage:\")\n",
    "print(confidence_interval)"
   ]
  },
  {
   "cell_type": "markdown",
   "metadata": {},
   "source": [
    "Now construct the 95% confidence interval for all salaried employeed in the police in the cell below."
   ]
  },
  {
   "cell_type": "code",
   "execution_count": 23,
   "metadata": {},
   "outputs": [
    {
     "name": "stdout",
     "output_type": "stream",
     "text": [
      "95% Confidence Interval for Mean Salary (Police Department):\n",
      "(86177.05631531784, 86795.77269094894)\n"
     ]
    }
   ],
   "source": [
    "# Your code here:\n",
    "from scipy.stats import t, sem\n",
    "\n",
    "# Filter salaries in the police department\n",
    "police_salaries = salaries.loc[(salaries['Department'] == 'POLICE') & (salaries['Salary or Hourly'] == 'Salary'), 'Annual Salary'].dropna()\n",
    "\n",
    "# Compute mean and standard error\n",
    "mean_salary = police_salaries.mean()\n",
    "std_error = sem(police_salaries)\n",
    "\n",
    "# Compute confidence interval\n",
    "confidence_level = 0.95\n",
    "n = len(police_salaries)\n",
    "degrees_of_freedom = n - 1\n",
    "confidence_interval = t.interval(confidence_level, degrees_of_freedom, loc=mean_salary, scale=std_error)\n",
    "\n",
    "# Display the confidence interval\n",
    "print(\"95% Confidence Interval for Mean Salary (Police Department):\")\n",
    "print(confidence_interval)"
   ]
  },
  {
   "cell_type": "markdown",
   "metadata": {},
   "source": [
    "# Bonus Challenge - Hypothesis Tests of Proportions\n",
    "\n",
    "Another type of one sample test is a hypothesis test of proportions. In this test, we examine whether the proportion of a group in our sample is significantly different than a fraction. \n",
    "\n",
    "You can read more about one sample proportion tests [here](http://sphweb.bumc.bu.edu/otlt/MPH-Modules/BS/SAS/SAS6-CategoricalData/SAS6-CategoricalData2.html).\n",
    "\n",
    "In the cell below, use the `proportions_ztest` function from `statsmodels` to perform a hypothesis test that will determine whether the number of hourly workers in the City of Chicago is significantly different from 25% at the 95% confidence level."
   ]
  },
  {
   "cell_type": "code",
   "execution_count": 27,
   "metadata": {},
   "outputs": [
    {
     "name": "stdout",
     "output_type": "stream",
     "text": [
      "Collecting statsmodels\n",
      "  Downloading statsmodels-0.14.0-cp310-cp310-win_amd64.whl (9.2 MB)\n",
      "     ---------------------------------------- 9.2/9.2 MB 21.0 MB/s eta 0:00:00\n",
      "Collecting patsy>=0.5.2\n",
      "  Downloading patsy-0.5.3-py2.py3-none-any.whl (233 kB)\n",
      "     ------------------------------------- 233.8/233.8 kB 14.0 MB/s eta 0:00:00\n",
      "Requirement already satisfied: scipy!=1.9.2,>=1.4 in c:\\users\\jardi\\anaconda3\\lib\\site-packages (from statsmodels) (1.10.1)\n",
      "Requirement already satisfied: pandas>=1.0 in c:\\users\\jardi\\anaconda3\\lib\\site-packages (from statsmodels) (1.5.3)\n",
      "Requirement already satisfied: packaging>=21.3 in c:\\users\\jardi\\anaconda3\\lib\\site-packages (from statsmodels) (23.0)\n",
      "Requirement already satisfied: numpy>=1.22.3 in c:\\users\\jardi\\anaconda3\\lib\\site-packages (from statsmodels) (1.24.2)\n",
      "Requirement already satisfied: pytz>=2020.1 in c:\\users\\jardi\\anaconda3\\lib\\site-packages (from pandas>=1.0->statsmodels) (2022.7)\n",
      "Requirement already satisfied: python-dateutil>=2.8.1 in c:\\users\\jardi\\anaconda3\\lib\\site-packages (from pandas>=1.0->statsmodels) (2.8.2)\n",
      "Requirement already satisfied: six in c:\\users\\jardi\\anaconda3\\lib\\site-packages (from patsy>=0.5.2->statsmodels) (1.16.0)\n",
      "Installing collected packages: patsy, statsmodels\n",
      "Successfully installed patsy-0.5.3 statsmodels-0.14.0\n",
      "Note: you may need to restart the kernel to use updated packages.\n"
     ]
    },
    {
     "name": "stderr",
     "output_type": "stream",
     "text": [
      "WARNING: Ignoring invalid distribution -ysql-connector-python (c:\\users\\jardi\\anaconda3\\lib\\site-packages)\n",
      "WARNING: Ignoring invalid distribution -ysql-connector-python (c:\\users\\jardi\\anaconda3\\lib\\site-packages)\n",
      "WARNING: Ignoring invalid distribution -ysql-connector-python (c:\\users\\jardi\\anaconda3\\lib\\site-packages)\n",
      "WARNING: Ignoring invalid distribution -ysql-connector-python (c:\\users\\jardi\\anaconda3\\lib\\site-packages)\n",
      "WARNING: Ignoring invalid distribution -ysql-connector-python (c:\\users\\jardi\\anaconda3\\lib\\site-packages)\n",
      "WARNING: Ignoring invalid distribution -ysql-connector-python (c:\\users\\jardi\\anaconda3\\lib\\site-packages)\n",
      "WARNING: Ignoring invalid distribution -ysql-connector-python (c:\\users\\jardi\\anaconda3\\lib\\site-packages)\n",
      "WARNING: Ignoring invalid distribution -ysql-connector-python (c:\\users\\jardi\\anaconda3\\lib\\site-packages)\n"
     ]
    }
   ],
   "source": [
    "pip install statsmodels "
   ]
  },
  {
   "cell_type": "code",
   "execution_count": 28,
   "metadata": {},
   "outputs": [
    {
     "name": "stdout",
     "output_type": "stream",
     "text": [
      "Test Statistic: -3.5099964213703005\n",
      "P-value: 0.0004481127249057967\n"
     ]
    }
   ],
   "source": [
    "# Your code here:\n",
    "\n",
    "from statsmodels.stats.proportion import proportions_ztest\n",
    "\n",
    "# Count the number of hourly workers\n",
    "total_workers = len(salaries)\n",
    "hourly_workers = len(salaries[salaries['Salary or Hourly'] == 'Hourly'])\n",
    "\n",
    "# Define the hypothesized proportion\n",
    "hypothesized_proportion = 0.25\n",
    "\n",
    "# Perform the hypothesis test\n",
    "test_statistic, p_value = proportions_ztest(hourly_workers, total_workers, hypothesized_proportion)\n",
    "\n",
    "# Display the test results\n",
    "print(\"Test Statistic:\", test_statistic)\n",
    "print(\"P-value:\", p_value)\n"
   ]
  },
  {
   "cell_type": "code",
   "execution_count": 29,
   "metadata": {},
   "outputs": [
    {
     "data": {
      "text/plain": [
       "'\\nThis indicates that the number of hourly workers in the City of Chicago is significantly different from 25% at the 95% \\nconfidence level. The negative test statistic (-3.5099964213703005) suggests that the observed proportion of hourly workers \\nis lower than the hypothesized proportion of 25%.\\n'"
      ]
     },
     "execution_count": 29,
     "metadata": {},
     "output_type": "execute_result"
    }
   ],
   "source": [
    "'''\n",
    "This indicates that the number of hourly workers in the City of Chicago is significantly different from 25% at the 95% \n",
    "confidence level. The negative test statistic (-3.5099964213703005) suggests that the observed proportion of hourly workers \n",
    "is lower than the hypothesized proportion of 25%.\n",
    "'''"
   ]
  }
 ],
 "metadata": {
  "kernelspec": {
   "display_name": "Python 3 (ipykernel)",
   "language": "python",
   "name": "python3"
  },
  "language_info": {
   "codemirror_mode": {
    "name": "ipython",
    "version": 3
   },
   "file_extension": ".py",
   "mimetype": "text/x-python",
   "name": "python",
   "nbconvert_exporter": "python",
   "pygments_lexer": "ipython3",
   "version": "3.10.9"
  }
 },
 "nbformat": 4,
 "nbformat_minor": 2
}
