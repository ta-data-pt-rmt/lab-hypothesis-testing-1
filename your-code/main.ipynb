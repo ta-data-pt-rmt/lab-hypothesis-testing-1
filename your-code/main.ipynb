{
 "cells": [
  {
   "cell_type": "markdown",
   "metadata": {},
   "source": [
    "# Before your start:\n",
    "- Read the README.md file\n",
    "- Comment as much as you can and use the resources (README.md file)\n",
    "- Happy learning!"
   ]
  },
  {
   "cell_type": "code",
   "execution_count": 1,
   "metadata": {},
   "outputs": [],
   "source": [
    "import numpy as np\n",
    "import pandas as pd \n",
    "\n"
   ]
  },
  {
   "cell_type": "markdown",
   "metadata": {},
   "source": [
    "# Challenge 1 - Exploring the Data\n",
    "\n",
    "In this challenge, we will examine all salaries of employees of the City of Chicago. We will start by loading the dataset and examining its contents."
   ]
  },
  {
   "cell_type": "code",
   "execution_count": 10,
   "metadata": {},
   "outputs": [],
   "source": [
    "file_path = 'C:\\\\Users\\\\David Santos\\\\Documents\\\\GitHub\\\\lab-hypothesis-testing-1\\\\your-code\\\\Current_Employee_Names__Salaries__and_Position_Titles.csv'\n",
    "\n",
    "chicago = pd.read_csv(file_path)"
   ]
  },
  {
   "cell_type": "markdown",
   "metadata": {},
   "source": [
    "Examine the `salaries` dataset using the `head` function below."
   ]
  },
  {
   "cell_type": "code",
   "execution_count": 11,
   "metadata": {},
   "outputs": [
    {
     "name": "stdout",
     "output_type": "stream",
     "text": [
      "                  Name                              Job Titles  \\\n",
      "0    AARON,  JEFFERY M                                SERGEANT   \n",
      "1      AARON,  KARINA   POLICE OFFICER (ASSIGNED AS DETECTIVE)   \n",
      "2  AARON,  KIMBERLEI R                CHIEF CONTRACT EXPEDITER   \n",
      "3  ABAD JR,  VICENTE M                       CIVIL ENGINEER IV   \n",
      "4    ABASCAL,  REECE E             TRAFFIC CONTROL AIDE-HOURLY   \n",
      "\n",
      "         Department Full or Part-Time Salary or Hourly  Typical Hours  \\\n",
      "0            POLICE                 F           Salary            NaN   \n",
      "1            POLICE                 F           Salary            NaN   \n",
      "2  GENERAL SERVICES                 F           Salary            NaN   \n",
      "3       WATER MGMNT                 F           Salary            NaN   \n",
      "4              OEMC                 P           Hourly           20.0   \n",
      "\n",
      "   Annual Salary  Hourly Rate  \n",
      "0       101442.0          NaN  \n",
      "1        94122.0          NaN  \n",
      "2       101592.0          NaN  \n",
      "3       110064.0          NaN  \n",
      "4            NaN        19.86  \n"
     ]
    }
   ],
   "source": [
    "print(chicago.head())\n",
    "\n"
   ]
  },
  {
   "cell_type": "markdown",
   "metadata": {},
   "source": [
    "We see from looking at the `head` function that there is quite a bit of missing data. Let's examine how much missing data is in each column. Produce this output in the cell below"
   ]
  },
  {
   "cell_type": "code",
   "execution_count": 12,
   "metadata": {},
   "outputs": [
    {
     "name": "stdout",
     "output_type": "stream",
     "text": [
      "Name                     0\n",
      "Job Titles               0\n",
      "Department               0\n",
      "Full or Part-Time        0\n",
      "Salary or Hourly         0\n",
      "Typical Hours        25161\n",
      "Annual Salary         8022\n",
      "Hourly Rate          25161\n",
      "dtype: int64\n"
     ]
    }
   ],
   "source": [
    "missing_values = chicago.isna().sum()\n",
    "\n",
    "print(missing_values)\n",
    "\n"
   ]
  },
  {
   "cell_type": "markdown",
   "metadata": {},
   "source": [
    "Let's also look at the count of hourly vs. salaried employees. Write the code in the cell below"
   ]
  },
  {
   "cell_type": "code",
   "execution_count": 13,
   "metadata": {},
   "outputs": [
    {
     "name": "stdout",
     "output_type": "stream",
     "text": [
      "Salary    25161\n",
      "Hourly     8022\n",
      "Name: Salary or Hourly, dtype: int64\n"
     ]
    }
   ],
   "source": [
    "salary_hourly = chicago['Salary or Hourly'].value_counts()\n",
    "\n",
    "print(salary_hourly)\n",
    "\n"
   ]
  },
  {
   "cell_type": "markdown",
   "metadata": {},
   "source": [
    "What this information indicates is that the table contains information about two types of employees - salaried and hourly. Some columns apply only to one type of employee while other columns only apply to another kind. This is why there are so many missing values. Therefore, we will not do anything to handle the missing values."
   ]
  },
  {
   "cell_type": "markdown",
   "metadata": {},
   "source": [
    "There are different departments in the city. List all departments and the count of employees in each department."
   ]
  },
  {
   "cell_type": "code",
   "execution_count": 14,
   "metadata": {},
   "outputs": [
    {
     "name": "stdout",
     "output_type": "stream",
     "text": [
      "POLICE                   13414\n",
      "FIRE                      4641\n",
      "STREETS & SAN             2198\n",
      "OEMC                      2102\n",
      "WATER MGMNT               1879\n",
      "AVIATION                  1629\n",
      "TRANSPORTN                1140\n",
      "PUBLIC LIBRARY            1015\n",
      "GENERAL SERVICES           980\n",
      "FAMILY & SUPPORT           615\n",
      "FINANCE                    560\n",
      "HEALTH                     488\n",
      "CITY COUNCIL               411\n",
      "LAW                        407\n",
      "BUILDINGS                  269\n",
      "COMMUNITY DEVELOPMENT      207\n",
      "BUSINESS AFFAIRS           171\n",
      "COPA                       116\n",
      "BOARD OF ELECTION          107\n",
      "DoIT                        99\n",
      "PROCUREMENT                 92\n",
      "INSPECTOR GEN               87\n",
      "MAYOR'S OFFICE              85\n",
      "CITY CLERK                  84\n",
      "ANIMAL CONTRL               81\n",
      "HUMAN RESOURCES             79\n",
      "CULTURAL AFFAIRS            65\n",
      "BUDGET & MGMT               46\n",
      "ADMIN HEARNG                39\n",
      "DISABILITIES                28\n",
      "TREASURER                   22\n",
      "HUMAN RELATIONS             16\n",
      "BOARD OF ETHICS              8\n",
      "POLICE BOARD                 2\n",
      "LICENSE APPL COMM            1\n",
      "Name: Department, dtype: int64\n"
     ]
    }
   ],
   "source": [
    "department_counts = chicago['Department'].value_counts()\n",
    "\n",
    "print(department_counts)\n"
   ]
  },
  {
   "cell_type": "markdown",
   "metadata": {},
   "source": [
    "# Challenge 2 - Hypothesis Tests\n",
    "\n",
    "In this section of the lab, we will test whether the hourly wage of all hourly workers is significantly different from $30/hr. Import the correct one sample test function from scipy and perform the hypothesis test for a 95% two sided confidence interval."
   ]
  },
  {
   "cell_type": "code",
   "execution_count": 16,
   "metadata": {},
   "outputs": [
    {
     "name": "stdout",
     "output_type": "stream",
     "text": [
      "T-statistic: 20.6198057854942\n",
      "P_value: 4.3230240486229894e-92\n",
      "Conclusion: Reject the null hypothesis\n"
     ]
    }
   ],
   "source": [
    "from scipy import stats \n",
    "\n",
    "hourly_data = chicago[chicago['Salary or Hourly'] == 'Hourly']\n",
    "\n",
    "hourly_rate = hourly_data['Hourly Rate']\n",
    "null_mean = 30  #null hypothesis: the mean hourly wage is $30/hr\n",
    "alpha = 0.005 \n",
    "\n",
    "\n",
    "t_statistic, p_value = stats.ttest_1samp(hourly_rate, null_mean)\n",
    "\n",
    "#comparing \n",
    "\n",
    "if p_value < alpha: \n",
    "    conclusion = \"Reject the null hypothesis\"\n",
    "\n",
    "else: \n",
    "    conclusion = \"Fail to reject the hypothesis\"\n",
    "\n",
    "\n",
    "#results\n",
    "\n",
    "print(f\"T-statistic: {t_statistic}\")\n",
    "\n",
    "print(f\"P_value: {p_value}\")\n",
    "\n",
    "print(f\"Conclusion: {conclusion}\")\n",
    "\n",
    "\n"
   ]
  },
  {
   "cell_type": "markdown",
   "metadata": {},
   "source": [
    "We are also curious about salaries in the police force. The chief of police in Chicago claimed in a press briefing that salaries this year are higher than last year's mean of $86000/year a year for all salaried employees. Test this one sided hypothesis using a 95% confidence interval.\n",
    "\n",
    "Hint: A one tailed test has a p-value that is half of the two tailed p-value. If our hypothesis is greater than, then to reject, the test statistic must also be positive."
   ]
  },
  {
   "cell_type": "markdown",
   "metadata": {},
   "source": []
  },
  {
   "cell_type": "code",
   "execution_count": 18,
   "metadata": {},
   "outputs": [
    {
     "name": "stdout",
     "output_type": "stream",
     "text": [
      "T-statistic: 3.081997005712994\n",
      "P_value: 0.0010301701775482569\n",
      "Conclusion: Reject the null hypothesis\n"
     ]
    }
   ],
   "source": [
    "police_data = chicago[(chicago['Department'] == 'POLICE') & (chicago['Salary or Hourly'] == 'Salary')]\n",
    "\n",
    "#one sample one tailed ttest \n",
    "\n",
    "salary_column = police_data['Annual Salary']\n",
    "null_mean = 86000 #null hypo: the mean salary is $86000/year\n",
    "alpha = 0.05 \n",
    "\n",
    "#calculate the one tailed significance level \n",
    "\n",
    "alpha_one_tailed = alpha / 2 \n",
    "\n",
    "t_statistic, p_value = stats.ttest_1samp(salary_column, null_mean, alternative = 'greater')\n",
    "\n",
    "#compare \n",
    "\n",
    "if p_value < alpha_one_tailed:\n",
    "    conclusion = \"Reject the null hypothesis\"\n",
    "else: \n",
    "    conclusion = \"Fail to reject the null hypothesis\"\n",
    "\n",
    "\n",
    "print(f\"T-statistic: {t_statistic}\")\n",
    "\n",
    "print(f\"P_value: {p_value}\")\n",
    "\n",
    "print(f\"Conclusion: {conclusion}\")\n",
    "    "
   ]
  },
  {
   "cell_type": "markdown",
   "metadata": {},
   "source": [
    "Using the `crosstab` function, find the department that has the most hourly workers. "
   ]
  },
  {
   "cell_type": "code",
   "execution_count": 19,
   "metadata": {},
   "outputs": [
    {
     "name": "stdout",
     "output_type": "stream",
     "text": [
      "The department with the most hourly workers is: STREETS & SAN\n"
     ]
    }
   ],
   "source": [
    "contingency = pd.crosstab(chicago['Department'], chicago ['Salary or Hourly'])\n",
    "\n",
    "most_hourly_department = contingency['Hourly'].idxmax()\n",
    "\n",
    "print(f\"The department with the most hourly workers is: {most_hourly_department}\")\n",
    "\n"
   ]
  },
  {
   "cell_type": "markdown",
   "metadata": {},
   "source": [
    "The workers from the department with the most hourly workers have complained that their hourly wage is less than $35/hour. Using a one sample t-test, test this one-sided hypothesis at the 95% confidence level."
   ]
  },
  {
   "cell_type": "code",
   "execution_count": 25,
   "metadata": {},
   "outputs": [
    {
     "name": "stdout",
     "output_type": "stream",
     "text": [
      "No hourly workers in streets & san\n"
     ]
    }
   ],
   "source": [
    "street_san = chicago[(chicago['Department'] == 'STREET & SAN') & (chicago['Salary or Hourly'] == 'Hourly')]\n",
    "\n",
    "\n",
    "if not street_san.empty: \n",
    "    hourly_rate = street_san ['Hourly Rate']\n",
    "    null_mean = 35  #mean horly wage is $35/hr\n",
    "    alpha =  0.05 \n",
    "\n",
    "    alpha_one_tailed = alpha / 2 \n",
    "\n",
    "    t_statistic, p_value = stats.ttest_1samp(hourly_rate, null_mean, alternative = 'less')\n",
    "\n",
    "    if p_value < alpha_one_tailed: \n",
    "        conclusion = \"Reject\"\n",
    "    else: \n",
    "        conclusion = \"Fail to reject\"\n",
    "# results\n",
    "    print(f\"T-statistic: {t_statistic}\")\n",
    "    print(f\"P-value: {p_value}\")\n",
    "    print(f\"Conclusion: {conclusion}\")\n",
    "    \n",
    "else: \n",
    "    print(\"No hourly workers in streets & san\")\n"
   ]
  },
  {
   "cell_type": "markdown",
   "metadata": {},
   "source": [
    "# Challenge 3: To practice - Constructing Confidence Intervals\n",
    "\n",
    "While testing our hypothesis is a great way to gather empirical evidence for accepting or rejecting the hypothesis, another way to gather evidence is by creating a confidence interval. A confidence interval gives us information about the true mean of the population. So for a 95% confidence interval, we are 95% sure that the mean of the population is within the confidence interval. \n",
    ").\n",
    "\n",
    "To read more about confidence intervals, click [here](https://en.wikipedia.org/wiki/Confidence_interval).\n",
    "\n",
    "\n",
    "In the cell below, we will construct a 95% confidence interval for the mean hourly wage of all hourly workers. \n",
    "\n",
    "The confidence interval is computed in SciPy using the `t.interval` function. You can read more about this function [here](https://docs.scipy.org/doc/scipy-0.14.0/reference/generated/scipy.stats.t.html).\n",
    "\n",
    "To compute the confidence interval of the hourly wage, use the 0.95 for the confidence level, number of rows - 1 for degrees of freedom, the mean of the sample for the location parameter and the standard error for the scale. The standard error can be computed using [this](https://docs.scipy.org/doc/scipy/reference/generated/scipy.stats.sem.html) function in SciPy."
   ]
  },
  {
   "cell_type": "code",
   "execution_count": 26,
   "metadata": {},
   "outputs": [
    {
     "name": "stdout",
     "output_type": "stream",
     "text": [
      "95% confidence interval for the mean hourly wage: (32.52345834488425, 33.05365708767623)\n"
     ]
    }
   ],
   "source": [
    "hourly_data = chicago[chicago['Salary or Hourly'] == 'Hourly']\n",
    "\n",
    "\n",
    "confidence_level = 0.95 \n",
    "degree = len(hourly_data) - 1\n",
    "sample_mean = hourly_data['Hourly Rate'].mean()\n",
    "standard_error = stats.sem(hourly_data['Hourly Rate'] )\n",
    "\n",
    "confidence_interval = stats.t.interval(confidence_level, degree, sample_mean, standard_error )\n",
    "\n",
    "print(f\"95% confidence interval for the mean hourly wage: {confidence_interval}\")\n",
    "\n",
    "\n",
    "\n"
   ]
  },
  {
   "cell_type": "markdown",
   "metadata": {},
   "source": [
    "Now construct the 95% confidence interval for all salaried employeed in the police in the cell below."
   ]
  },
  {
   "cell_type": "code",
   "execution_count": 28,
   "metadata": {},
   "outputs": [
    {
     "name": "stdout",
     "output_type": "stream",
     "text": [
      " 95% interval for the mean annual salary in the police department (86177.05631531784, 86795.77269094894)\n"
     ]
    }
   ],
   "source": [
    "police = chicago[(chicago['Department'] == 'POLICE') & (chicago['Salary or Hourly'] == 'Salary')]\n",
    "\n",
    "confidence_level = 0.95 \n",
    "degree = len(police) - 1 \n",
    "sample_mean = police['Annual Salary'].mean() \n",
    "standard_error = stats.sem(police['Annual Salary'])\n",
    "\n",
    "confidence_interval = stats.t.interval(confidence_level, degree, sample_mean, standard_error)\n",
    "\n",
    "\n",
    "print(f\" 95% interval for the mean annual salary in the police department {confidence_interval}\")\n",
    "\n",
    "\n"
   ]
  },
  {
   "cell_type": "markdown",
   "metadata": {},
   "source": [
    "# Bonus Challenge - Hypothesis Tests of Proportions\n",
    "\n",
    "Another type of one sample test is a hypothesis test of proportions. In this test, we examine whether the proportion of a group in our sample is significantly different than a fraction. \n",
    "\n",
    "You can read more about one sample proportion tests [here](http://sphweb.bumc.bu.edu/otlt/MPH-Modules/BS/SAS/SAS6-CategoricalData/SAS6-CategoricalData2.html).\n",
    "\n",
    "In the cell below, use the `proportions_ztest` function from `statsmodels` to perform a hypothesis test that will determine whether the number of hourly workers in the City of Chicago is significantly different from 25% at the 95% confidence level."
   ]
  },
  {
   "cell_type": "code",
   "execution_count": 31,
   "metadata": {},
   "outputs": [
    {
     "name": "stdout",
     "output_type": "stream",
     "text": [
      "z-statistics: -3.5099964213703005\n",
      "p-value: 0.0004481127249057967\n",
      "Conclusion: Reject null hypothesis\n"
     ]
    }
   ],
   "source": [
    "import statsmodels.api as sm\n",
    "\n",
    "num_hourly = chicago[chicago['Salary or Hourly'] == 'Hourly'].shape[0]\n",
    "total_workers = chicago.shape[0]\n",
    "\n",
    "expected_proportion = 0.25 \n",
    "\n",
    "z_statistic, p_value = sm.stats.proportions_ztest(num_hourly, total_workers,expected_proportion, alternative = 'two-sided')\n",
    "\n",
    "#results\n",
    "\n",
    "print(f\"z-statistics: {z_statistic}\")\n",
    "print(f\"p-value: {p_value}\")\n",
    "\n",
    "aplha = 0.05 \n",
    "\n",
    "if p_value < alpha: \n",
    "    conclusion = \"Reject null hypothesis\"\n",
    "else:\n",
    "    conclusion = \"Fail to reject numm hypothesis\"\n",
    "\n",
    "print(f\"Conclusion: {conclusion}\")\n"
   ]
  }
 ],
 "metadata": {
  "kernelspec": {
   "display_name": "Python 3",
   "language": "python",
   "name": "python3"
  },
  "language_info": {
   "codemirror_mode": {
    "name": "ipython",
    "version": 3
   },
   "file_extension": ".py",
   "mimetype": "text/x-python",
   "name": "python",
   "nbconvert_exporter": "python",
   "pygments_lexer": "ipython3",
   "version": "3.10.9"
  }
 },
 "nbformat": 4,
 "nbformat_minor": 2
}
